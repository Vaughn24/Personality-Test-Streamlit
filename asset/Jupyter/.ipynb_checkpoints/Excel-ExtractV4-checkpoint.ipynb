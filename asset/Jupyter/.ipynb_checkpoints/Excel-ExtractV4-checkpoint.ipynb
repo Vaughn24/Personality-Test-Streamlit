{
 "cells": [
  {
   "cell_type": "code",
   "execution_count": 1,
   "id": "1c67099f-c269-4545-a65d-e9d99cd02e58",
   "metadata": {},
   "outputs": [],
   "source": [
    "import pandas as pd\n",
    "import csv\n",
    "from itertools import chain"
   ]
  },
  {
   "cell_type": "code",
   "execution_count": 2,
   "id": "41cdebef-5dc7-4991-bb38-be46a88d310c",
   "metadata": {},
   "outputs": [],
   "source": [
    "df = pd.read_excel('PT.xlsx')"
   ]
  },
  {
   "cell_type": "code",
   "execution_count": 3,
   "id": "848cb61c-0a7a-4754-99b4-a07848eaf214",
   "metadata": {},
   "outputs": [],
   "source": [
    "df2 = df.copy()"
   ]
  },
  {
   "cell_type": "code",
   "execution_count": 4,
   "id": "e90f4e5b-0b79-4f93-9673-c0f58b1c9a82",
   "metadata": {},
   "outputs": [
    {
     "data": {
      "text/html": [
       "<div>\n",
       "<style scoped>\n",
       "    .dataframe tbody tr th:only-of-type {\n",
       "        vertical-align: middle;\n",
       "    }\n",
       "\n",
       "    .dataframe tbody tr th {\n",
       "        vertical-align: top;\n",
       "    }\n",
       "\n",
       "    .dataframe thead th {\n",
       "        text-align: right;\n",
       "    }\n",
       "</style>\n",
       "<table border=\"1\" class=\"dataframe\">\n",
       "  <thead>\n",
       "    <tr style=\"text-align: right;\">\n",
       "      <th></th>\n",
       "      <th>ID</th>\n",
       "      <th>Start time</th>\n",
       "      <th>Completion time</th>\n",
       "      <th>Email</th>\n",
       "      <th>Name</th>\n",
       "      <th>Total points</th>\n",
       "      <th>Quiz feedback</th>\n",
       "      <th>Last modified time</th>\n",
       "      <th>Would you like to proceed?\\n</th>\n",
       "      <th>Points - Would you like to proceed?\\n</th>\n",
       "      <th>...</th>\n",
       "      <th>Points - I have sympathy for people who are less fortunate   than I am.</th>\n",
       "      <th>I try to give generously to those in need.</th>\n",
       "      <th>Feedback - I try to give generously to those in need.</th>\n",
       "      <th>Points - I try to give generously to those in need.</th>\n",
       "      <th>It wouldn’t bother me to harm someone I didn’t   like.</th>\n",
       "      <th>Feedback - It wouldn’t bother me to harm someone I didn’t   like.</th>\n",
       "      <th>Points - It wouldn’t bother me to harm someone I didn’t   like.</th>\n",
       "      <th>People see me as a hard-hearted person.</th>\n",
       "      <th>Feedback - People see me as a hard-hearted person.</th>\n",
       "      <th>Points - People see me as a hard-hearted person.</th>\n",
       "    </tr>\n",
       "  </thead>\n",
       "  <tbody>\n",
       "    <tr>\n",
       "      <th>0</th>\n",
       "      <td>1</td>\n",
       "      <td>2023-08-04 02:03:19</td>\n",
       "      <td>2023-08-04 02:05:10</td>\n",
       "      <td>anonymous</td>\n",
       "      <td>NaN</td>\n",
       "      <td>NaN</td>\n",
       "      <td>NaN</td>\n",
       "      <td>NaN</td>\n",
       "      <td>Yes, I hereby allow/authorize to use, collect,...</td>\n",
       "      <td>NaN</td>\n",
       "      <td>...</td>\n",
       "      <td>NaN</td>\n",
       "      <td>4</td>\n",
       "      <td>NaN</td>\n",
       "      <td>NaN</td>\n",
       "      <td>3</td>\n",
       "      <td>NaN</td>\n",
       "      <td>NaN</td>\n",
       "      <td>4</td>\n",
       "      <td>NaN</td>\n",
       "      <td>NaN</td>\n",
       "    </tr>\n",
       "    <tr>\n",
       "      <th>1</th>\n",
       "      <td>2</td>\n",
       "      <td>2023-08-04 16:54:46</td>\n",
       "      <td>2023-08-04 17:00:20</td>\n",
       "      <td>anonymous</td>\n",
       "      <td>NaN</td>\n",
       "      <td>NaN</td>\n",
       "      <td>NaN</td>\n",
       "      <td>NaN</td>\n",
       "      <td>Yes, I hereby allow/authorize to use, collect,...</td>\n",
       "      <td>NaN</td>\n",
       "      <td>...</td>\n",
       "      <td>NaN</td>\n",
       "      <td>5</td>\n",
       "      <td>NaN</td>\n",
       "      <td>NaN</td>\n",
       "      <td>3</td>\n",
       "      <td>NaN</td>\n",
       "      <td>NaN</td>\n",
       "      <td>2</td>\n",
       "      <td>NaN</td>\n",
       "      <td>NaN</td>\n",
       "    </tr>\n",
       "    <tr>\n",
       "      <th>2</th>\n",
       "      <td>3</td>\n",
       "      <td>2023-08-04 16:56:27</td>\n",
       "      <td>2023-08-04 17:06:48</td>\n",
       "      <td>anonymous</td>\n",
       "      <td>NaN</td>\n",
       "      <td>NaN</td>\n",
       "      <td>NaN</td>\n",
       "      <td>NaN</td>\n",
       "      <td>Yes, I hereby allow/authorize to use, collect,...</td>\n",
       "      <td>NaN</td>\n",
       "      <td>...</td>\n",
       "      <td>NaN</td>\n",
       "      <td>3</td>\n",
       "      <td>NaN</td>\n",
       "      <td>NaN</td>\n",
       "      <td>2</td>\n",
       "      <td>NaN</td>\n",
       "      <td>NaN</td>\n",
       "      <td>3</td>\n",
       "      <td>NaN</td>\n",
       "      <td>NaN</td>\n",
       "    </tr>\n",
       "  </tbody>\n",
       "</table>\n",
       "<p>3 rows × 339 columns</p>\n",
       "</div>"
      ],
      "text/plain": [
       "   ID          Start time     Completion time      Email  Name  Total points  \\\n",
       "0   1 2023-08-04 02:03:19 2023-08-04 02:05:10  anonymous   NaN           NaN   \n",
       "1   2 2023-08-04 16:54:46 2023-08-04 17:00:20  anonymous   NaN           NaN   \n",
       "2   3 2023-08-04 16:56:27 2023-08-04 17:06:48  anonymous   NaN           NaN   \n",
       "\n",
       "   Quiz feedback  Last modified time  \\\n",
       "0            NaN                 NaN   \n",
       "1            NaN                 NaN   \n",
       "2            NaN                 NaN   \n",
       "\n",
       "                        Would you like to proceed?\\n  \\\n",
       "0  Yes, I hereby allow/authorize to use, collect,...   \n",
       "1  Yes, I hereby allow/authorize to use, collect,...   \n",
       "2  Yes, I hereby allow/authorize to use, collect,...   \n",
       "\n",
       "   Points - Would you like to proceed?\\n  ...  \\\n",
       "0                                    NaN  ...   \n",
       "1                                    NaN  ...   \n",
       "2                                    NaN  ...   \n",
       "\n",
       "   Points - I have sympathy for people who are less fortunate   than I am.  \\\n",
       "0                                                NaN                         \n",
       "1                                                NaN                         \n",
       "2                                                NaN                         \n",
       "\n",
       "   I try to give generously to those in need.  \\\n",
       "0                                           4   \n",
       "1                                           5   \n",
       "2                                           3   \n",
       "\n",
       "   Feedback - I try to give generously to those in need.  \\\n",
       "0                                                NaN       \n",
       "1                                                NaN       \n",
       "2                                                NaN       \n",
       "\n",
       "   Points - I try to give generously to those in need.  \\\n",
       "0                                                NaN     \n",
       "1                                                NaN     \n",
       "2                                                NaN     \n",
       "\n",
       "  It wouldn’t bother me to harm someone I didn’t   like.  \\\n",
       "0                                                  3       \n",
       "1                                                  3       \n",
       "2                                                  2       \n",
       "\n",
       "   Feedback - It wouldn’t bother me to harm someone I didn’t   like.  \\\n",
       "0                                                NaN                   \n",
       "1                                                NaN                   \n",
       "2                                                NaN                   \n",
       "\n",
       "   Points - It wouldn’t bother me to harm someone I didn’t   like.  \\\n",
       "0                                                NaN                 \n",
       "1                                                NaN                 \n",
       "2                                                NaN                 \n",
       "\n",
       "  People see me as a hard-hearted person.  \\\n",
       "0                                       4   \n",
       "1                                       2   \n",
       "2                                       3   \n",
       "\n",
       "   Feedback - People see me as a hard-hearted person.  \\\n",
       "0                                                NaN    \n",
       "1                                                NaN    \n",
       "2                                                NaN    \n",
       "\n",
       "   Points - People see me as a hard-hearted person.  \n",
       "0                                               NaN  \n",
       "1                                               NaN  \n",
       "2                                               NaN  \n",
       "\n",
       "[3 rows x 339 columns]"
      ]
     },
     "execution_count": 4,
     "metadata": {},
     "output_type": "execute_result"
    }
   ],
   "source": [
    "df2"
   ]
  },
  {
   "cell_type": "code",
   "execution_count": 5,
   "id": "bcb2f241-53bf-49cc-8d87-1d0fd29a4111",
   "metadata": {},
   "outputs": [],
   "source": [
    "#Drops all column NA\n",
    "df3 = df2.dropna(axis=1)"
   ]
  },
  {
   "cell_type": "code",
   "execution_count": 6,
   "id": "60f1e983-dd50-4542-802e-e73ae1909775",
   "metadata": {},
   "outputs": [
    {
     "data": {
      "text/html": [
       "<div>\n",
       "<style scoped>\n",
       "    .dataframe tbody tr th:only-of-type {\n",
       "        vertical-align: middle;\n",
       "    }\n",
       "\n",
       "    .dataframe tbody tr th {\n",
       "        vertical-align: top;\n",
       "    }\n",
       "\n",
       "    .dataframe thead th {\n",
       "        text-align: right;\n",
       "    }\n",
       "</style>\n",
       "<table border=\"1\" class=\"dataframe\">\n",
       "  <thead>\n",
       "    <tr style=\"text-align: right;\">\n",
       "      <th></th>\n",
       "      <th>ID</th>\n",
       "      <th>Start time</th>\n",
       "      <th>Completion time</th>\n",
       "      <th>Email</th>\n",
       "      <th>Would you like to proceed?\\n</th>\n",
       "      <th>First Name</th>\n",
       "      <th>Last Name</th>\n",
       "      <th>Birth Date</th>\n",
       "      <th>Sex</th>\n",
       "      <th>Email Address</th>\n",
       "      <th>I would be quite bored by a visit to an art gallery.</th>\n",
       "      <th>I clean   my office or home quite frequently.</th>\n",
       "      <th>I rarely   hold a grudge, even against people who have badly wronged me.</th>\n",
       "      <th>I feel   reasonably satisfied with myself overall.</th>\n",
       "      <th>I would   feel afraid if I had to travel in bad weather conditions.</th>\n",
       "    </tr>\n",
       "  </thead>\n",
       "  <tbody>\n",
       "    <tr>\n",
       "      <th>0</th>\n",
       "      <td>1</td>\n",
       "      <td>2023-08-04 02:03:19</td>\n",
       "      <td>2023-08-04 02:05:10</td>\n",
       "      <td>anonymous</td>\n",
       "      <td>Yes, I hereby allow/authorize to use, collect,...</td>\n",
       "      <td>Kenneth Von</td>\n",
       "      <td>Golosinda</td>\n",
       "      <td>2023-08-02</td>\n",
       "      <td>Male</td>\n",
       "      <td>test</td>\n",
       "      <td>3</td>\n",
       "      <td>4</td>\n",
       "      <td>3</td>\n",
       "      <td>4</td>\n",
       "      <td>3</td>\n",
       "    </tr>\n",
       "    <tr>\n",
       "      <th>1</th>\n",
       "      <td>2</td>\n",
       "      <td>2023-08-04 16:54:46</td>\n",
       "      <td>2023-08-04 17:00:20</td>\n",
       "      <td>anonymous</td>\n",
       "      <td>Yes, I hereby allow/authorize to use, collect,...</td>\n",
       "      <td>Michael</td>\n",
       "      <td>Tan</td>\n",
       "      <td>2000-05-07</td>\n",
       "      <td>Male</td>\n",
       "      <td>Michael@gmail.com</td>\n",
       "      <td>5</td>\n",
       "      <td>2</td>\n",
       "      <td>4</td>\n",
       "      <td>3</td>\n",
       "      <td>1</td>\n",
       "    </tr>\n",
       "    <tr>\n",
       "      <th>2</th>\n",
       "      <td>3</td>\n",
       "      <td>2023-08-04 16:56:27</td>\n",
       "      <td>2023-08-04 17:06:48</td>\n",
       "      <td>anonymous</td>\n",
       "      <td>Yes, I hereby allow/authorize to use, collect,...</td>\n",
       "      <td>Debbie</td>\n",
       "      <td>Elis</td>\n",
       "      <td>2005-02-20</td>\n",
       "      <td>Female</td>\n",
       "      <td>mikharubi@gmail.com</td>\n",
       "      <td>3</td>\n",
       "      <td>2</td>\n",
       "      <td>4</td>\n",
       "      <td>3</td>\n",
       "      <td>4</td>\n",
       "    </tr>\n",
       "  </tbody>\n",
       "</table>\n",
       "</div>"
      ],
      "text/plain": [
       "   ID          Start time     Completion time      Email  \\\n",
       "0   1 2023-08-04 02:03:19 2023-08-04 02:05:10  anonymous   \n",
       "1   2 2023-08-04 16:54:46 2023-08-04 17:00:20  anonymous   \n",
       "2   3 2023-08-04 16:56:27 2023-08-04 17:06:48  anonymous   \n",
       "\n",
       "                        Would you like to proceed?\\n   First Name  Last Name  \\\n",
       "0  Yes, I hereby allow/authorize to use, collect,...  Kenneth Von  Golosinda   \n",
       "1  Yes, I hereby allow/authorize to use, collect,...      Michael        Tan   \n",
       "2  Yes, I hereby allow/authorize to use, collect,...       Debbie       Elis   \n",
       "\n",
       "  Birth Date     Sex        Email Address  \\\n",
       "0 2023-08-02    Male                 test   \n",
       "1 2000-05-07    Male    Michael@gmail.com   \n",
       "2 2005-02-20  Female  mikharubi@gmail.com   \n",
       "\n",
       "   I would be quite bored by a visit to an art gallery.  \\\n",
       "0                                                  3      \n",
       "1                                                  5      \n",
       "2                                                  3      \n",
       "\n",
       "   I clean   my office or home quite frequently.  \\\n",
       "0                                              4   \n",
       "1                                              2   \n",
       "2                                              2   \n",
       "\n",
       "   I rarely   hold a grudge, even against people who have badly wronged me.  \\\n",
       "0                                                  3                          \n",
       "1                                                  4                          \n",
       "2                                                  4                          \n",
       "\n",
       "   I feel   reasonably satisfied with myself overall.  \\\n",
       "0                                                  4    \n",
       "1                                                  3    \n",
       "2                                                  3    \n",
       "\n",
       "   I would   feel afraid if I had to travel in bad weather conditions.  \n",
       "0                                                  3                    \n",
       "1                                                  1                    \n",
       "2                                                  4                    "
      ]
     },
     "execution_count": 6,
     "metadata": {},
     "output_type": "execute_result"
    }
   ],
   "source": [
    "df3.iloc[:, :15]"
   ]
  },
  {
   "cell_type": "code",
   "execution_count": 7,
   "id": "8ddd620c-d634-44cd-b0ad-fb9541fa9d3d",
   "metadata": {},
   "outputs": [],
   "source": [
    "favorable = [2,3,4,5,7,8,11,14,17,18,22,23,24,26,27,28,30,31,32,33,34,37,39,40,43,45,46,47,48,49,53,57,58,60,61,62,64,65,67,68,69,71,73,78,81,83,86,88,97,98]\n",
    "unfavorable = [1,6,9,10,12,13,15,16,19,20,21,25,29,35,36,38,41,42,44,50,51,52,54,55,56,59,63,66,70,72,74,75,76,77,79,80,82,84,85,87,89,90,91,92,93,94,95,96,99,100]"
   ]
  },
  {
   "cell_type": "code",
   "execution_count": 8,
   "id": "bf826b3e-6468-4005-838e-1393d678bd81",
   "metadata": {},
   "outputs": [],
   "source": [
    "#This is for row 0 only (Choose which row you want/ which respondent)\n",
    "row_index = 2\n",
    "values_list = df3.iloc[row_index].tolist()"
   ]
  },
  {
   "cell_type": "code",
   "execution_count": 9,
   "id": "b1843398-ed0b-4ab0-8132-57ed7026c6ed",
   "metadata": {},
   "outputs": [],
   "source": [
    "# Questionnaire score but the unfavorable is still not modified\n",
    "rating = values_list[10::]\n",
    "questionnaire_score = {key: value for key, value in enumerate(rating, 1)}\n",
    "#print(questionnaire_score)\n",
    "###This is only for checking you can remove the line below#########################\n",
    "#unfavorable_scores_not_scaled\n",
    "questionnaire_score_not_scaled = {key: value for key, value in enumerate(rating, 1)}\n"
   ]
  },
  {
   "cell_type": "code",
   "execution_count": 10,
   "id": "b404f4ed-8c00-41d0-b878-ebb1405572b2",
   "metadata": {},
   "outputs": [],
   "source": [
    "# Valua mapping changing the 1=5,2=4\n",
    "\n",
    "value_mapping = {1: 5, 2: 4, 3: 3, 4: 2, 5: 1}\n",
    "unfavorable_scores = [value_mapping[questionnaire_score[key]] for key in unfavorable if key in questionnaire_score]\n",
    "#print(unfavorable_scores)"
   ]
  },
  {
   "cell_type": "code",
   "execution_count": 11,
   "id": "6f2c831b-1a53-4678-981f-b57c1818f5ee",
   "metadata": {},
   "outputs": [],
   "source": [
    "questionnaire_score.update(zip(unfavorable,unfavorable_scores))\n",
    "#print(questionnaire_score)"
   ]
  },
  {
   "cell_type": "code",
   "execution_count": 12,
   "id": "0922e0b3-f26f-4161-be22-ac1a44d3d074",
   "metadata": {},
   "outputs": [
    {
     "data": {
      "text/plain": [
       "56"
      ]
     },
     "execution_count": 12,
     "metadata": {},
     "output_type": "execute_result"
    }
   ],
   "source": [
    "# Honesty-Humilty\n",
    "Sincerity = [questionnaire_score[key] for key in [6,30,54,78] if key in questionnaire_score]\n",
    "Fairness = [questionnaire_score[key] for key in [12,36,60,84] if key in questionnaire_score]\n",
    "Greed_Avoidance = [questionnaire_score[key] for key in [18,42,66,90] if key in questionnaire_score]\n",
    "Modesty = [questionnaire_score[key] for key in [24,48,72,96] if key in questionnaire_score]\n",
    "\n",
    "# Grand Total Honest-Humilty\n",
    "combined_list = chain(Sincerity, Fairness, Greed_Avoidance, Modesty)\n",
    "GT_Honesty_Humility = sum(combined_list)\n",
    "GT_Honesty_Humility"
   ]
  },
  {
   "cell_type": "code",
   "execution_count": 13,
   "id": "5024a016-8011-40dd-aa04-f14291cb9a89",
   "metadata": {},
   "outputs": [
    {
     "data": {
      "text/plain": [
       "60"
      ]
     },
     "execution_count": 13,
     "metadata": {},
     "output_type": "execute_result"
    }
   ],
   "source": [
    "# Emotionality\n",
    "Fearfulness = [questionnaire_score[key] for key in [5,29,53,77] if key in questionnaire_score]\n",
    "Anxiety = [questionnaire_score[key] for key in [11,35,59,83] if key in questionnaire_score]\n",
    "Dependence = [questionnaire_score[key] for key in [17,41,65,89] if key in questionnaire_score]\n",
    "Sentimentality = [questionnaire_score[key] for key in [23,47,71,95] if key in questionnaire_score]\n",
    "\n",
    "# Grand Total Emotionality\n",
    "combined_list2 = chain(Fearfulness, Anxiety, Dependence, Sentimentality)\n",
    "GT_Emotionality = sum(combined_list2)\n",
    "GT_Emotionality"
   ]
  },
  {
   "cell_type": "code",
   "execution_count": 14,
   "id": "1fdf7c3f-f02b-4c4c-988b-cbb781e970b2",
   "metadata": {},
   "outputs": [
    {
     "data": {
      "text/plain": [
       "43"
      ]
     },
     "execution_count": 14,
     "metadata": {},
     "output_type": "execute_result"
    }
   ],
   "source": [
    "# Extraversion\n",
    "Social_SE = [questionnaire_score[key] for key in [4,28,52,76] if key in questionnaire_score]\n",
    "Social_Boldness = [questionnaire_score[key] for key in [10,34,58,82] if key in questionnaire_score]\n",
    "Sociability = [questionnaire_score[key] for key in [16,40,64,88] if key in questionnaire_score]\n",
    "Liveliness = [questionnaire_score[key] for key in [22,46,70,94] if key in questionnaire_score]\n",
    "\n",
    "# Grand Total Extraversion\n",
    "combined_list3 = chain(Social_SE, Social_Boldness, Sociability, Liveliness)\n",
    "GT_Extraversion = sum(combined_list3)\n",
    "GT_Extraversion"
   ]
  },
  {
   "cell_type": "code",
   "execution_count": 15,
   "id": "5154b30d-3e45-423d-953c-4bdc1c21109b",
   "metadata": {},
   "outputs": [
    {
     "data": {
      "text/plain": [
       "58"
      ]
     },
     "execution_count": 15,
     "metadata": {},
     "output_type": "execute_result"
    }
   ],
   "source": [
    "# Agreeableness\n",
    "\n",
    "Forgiveness = [questionnaire_score[key] for key in [3,27,51,75] if key in questionnaire_score]\n",
    "Gentleness = [questionnaire_score[key] for key in [9,33,57,81] if key in questionnaire_score]\n",
    "Flexibility = [questionnaire_score[key] for key in [15,39,63,87] if key in questionnaire_score]\n",
    "Patience = [questionnaire_score[key] for key in [21,45,69,93] if key in questionnaire_score]\n",
    "\n",
    "# Grand Total Agreeableness\n",
    "combined_list4 = chain(Forgiveness, Gentleness, Flexibility, Patience)\n",
    "GT_Agreeableness = sum(combined_list4)\n",
    "GT_Agreeableness"
   ]
  },
  {
   "cell_type": "code",
   "execution_count": 16,
   "id": "bcbff830-9904-4f83-8f56-7d9809a4c137",
   "metadata": {},
   "outputs": [
    {
     "data": {
      "text/plain": [
       "35"
      ]
     },
     "execution_count": 16,
     "metadata": {},
     "output_type": "execute_result"
    }
   ],
   "source": [
    "# Conscientiousness\n",
    "\n",
    "Organization = [questionnaire_score[key] for key in [2,26,50,74] if key in questionnaire_score]\n",
    "Diligence = [questionnaire_score[key] for key in [8,32,56,80] if key in questionnaire_score]\n",
    "Perfectionism = [questionnaire_score[key] for key in [14,38,62,86] if key in questionnaire_score]\n",
    "Prudence = [questionnaire_score[key] for key in [20,44,68,92] if key in questionnaire_score]\n",
    "\n",
    "# Grand Total Conscientiousness\n",
    "combined_list5 = chain(Organization, Diligence, Perfectionism, Prudence)\n",
    "GT_Conscientiousness = sum(combined_list5)\n",
    "GT_Conscientiousness"
   ]
  },
  {
   "cell_type": "code",
   "execution_count": 17,
   "id": "94de77f5-beff-4ce6-a57a-d384741ea185",
   "metadata": {},
   "outputs": [
    {
     "data": {
      "text/plain": [
       "51"
      ]
     },
     "execution_count": 17,
     "metadata": {},
     "output_type": "execute_result"
    }
   ],
   "source": [
    "# Openness to Experience\n",
    "\n",
    "Aesth_App = [questionnaire_score[key] for key in [1,25,49,73] if key in questionnaire_score]\n",
    "Inquisitiveness = [questionnaire_score[key] for key in [7,31,55,79] if key in questionnaire_score]\n",
    "Creativity = [questionnaire_score[key] for key in [13,37,61,85] if key in questionnaire_score]\n",
    "Unconventionality = [questionnaire_score[key] for key in [19,43,67,91] if key in questionnaire_score]\n",
    "\n",
    "# Grand Total Conscientiousness\n",
    "combined_list6 = chain(Aesth_App, Inquisitiveness, Creativity, Unconventionality)\n",
    "GT_OtoE = sum(combined_list6)\n",
    "GT_OtoE\n"
   ]
  },
  {
   "cell_type": "code",
   "execution_count": 18,
   "id": "5b34c0e4-a93e-43b7-860f-ee88ec6a822e",
   "metadata": {},
   "outputs": [
    {
     "data": {
      "text/plain": [
       "'MID '"
      ]
     },
     "execution_count": 18,
     "metadata": {},
     "output_type": "execute_result"
    }
   ],
   "source": [
    "# Altruism\n",
    "Altruism = [questionnaire_score[key] for key in [97,98,99,100] if key in questionnaire_score]\n",
    "GT_altruism = sum(Altruism)\n",
    "alt_rating = \"HIGH\" if GT_altruism >= 15 else (\"LOW \" if GT_altruism < 9 else \"MID \")\n",
    "alt_rating"
   ]
  },
  {
   "cell_type": "code",
   "execution_count": 19,
   "id": "453e9aa7-5b4a-4efb-aa75-581e668fb10f",
   "metadata": {
    "tags": []
   },
   "outputs": [],
   "source": [
    "# Get the Grand total of each Factor and Facet\n",
    "score_FnF=[Sincerity, Fairness, Greed_Avoidance, Modesty,Fearfulness, Anxiety, Dependence, Sentimentality,Social_SE, Social_Boldness, Sociability, Liveliness,Forgiveness, Gentleness, Flexibility, Patience,Organization, Diligence, Perfectionism, Prudence,Aesth_App, Inquisitiveness, Creativity, Unconventionality,Altruism]\n",
    "GT_FnF = [sum(inner_list) for inner_list in score_FnF]"
   ]
  },
  {
   "cell_type": "code",
   "execution_count": 20,
   "id": "f8113c72-73dd-4e02-948e-f08937c95981",
   "metadata": {},
   "outputs": [
    {
     "data": {
      "text/plain": [
       "'MID '"
      ]
     },
     "execution_count": 20,
     "metadata": {},
     "output_type": "execute_result"
    }
   ],
   "source": [
    "# DESCRIPTION without the Altruism\n",
    "GT_PA=[GT_Honesty_Humility,GT_Emotionality,GT_Extraversion,GT_Agreeableness,GT_Conscientiousness,GT_OtoE]\n",
    "\n",
    "\n",
    "#Description range for Personality Aspect\n",
    "def description_range_PA(GT):\n",
    "    rating = \"\"\n",
    "    if GT>=59:\n",
    "        rating = \"HIGH\"\n",
    "    elif GT<37:\n",
    "        rating = \"LOW \"\n",
    "    else:\n",
    "        rating = \"MID \"\n",
    "    return rating\n",
    "\n",
    "#Description range for Factor and Facet\n",
    "def description_range_FnF(GT):\n",
    "    rating = \"\"\n",
    "    if GT>=15:\n",
    "        rating = \"HIGH\"\n",
    "    elif GT<9:\n",
    "        rating = \"LOW \"\n",
    "    else:\n",
    "        rating = \"MID \"\n",
    "    return rating\n",
    "\n",
    "PA_rating = []\n",
    "\n",
    "FnF_rating = []\n",
    "for PA in GT_PA:\n",
    "    PA_rating.append(description_range_PA(PA))\n",
    "for FnF in GT_FnF:\n",
    "    FnF_rating.append(description_range_FnF(FnF))\n",
    "\n",
    "#Altruism have different formula\n",
    "PA_rating.append(alt_rating)\n",
    "GT_PA.append(GT_altruism)\n",
    "\n",
    "\n",
    "#HEXACO\n",
    "PA_sum = sum(GT_PA)\n",
    "HEX_rating = \"HIGH\" if PA_sum >= 367 else (\"LOW \" if PA_sum < 233 else \"MID \")\n",
    "HEX_rating"
   ]
  },
  {
   "cell_type": "code",
   "execution_count": 51,
   "id": "500cde32-96be-4283-abfa-c2e223580e1d",
   "metadata": {},
   "outputs": [
    {
     "data": {
      "text/plain": [
       "\"Persons with very high scores on the Emotionality scale experience fear of physical dangers, experience anxiety in response to life's stresses, feel a need for emotional support from others, and feel empathy and sentimental attachments with others.\""
      ]
     },
     "execution_count": 51,
     "metadata": {},
     "output_type": "execute_result"
    }
   ],
   "source": [
    "# Description\n",
    "\n",
    "Honesty_Humility_descr = \"Conversely, persons with very low scores on this scale will flatter others to get what they want, are inclined to break rules for personal profit, are motivated by material gain, and feel a strong sense of self-importance.\" if PA_rating[0] == \"LOW \" else \"Persons with very high scores on the Honesty-Humility scale avoid manipulating others for personal gain, feel little temptation to break rules, are uninterested in lavish wealth and luxuries, and feel no special entitlement to elevated social status.\" if PA_rating[0] == \"HIGH\" else \" \"\n",
    "Emotionality_descr = \"Conversely, persons with very low scores on this scale are not deterred by the prospect of physical harm, feel little worry even in stressful situations, have little need to share their concerns with others, and feel emotionally detached from others.\" if PA_rating[1] == \"LOW \" else \"Persons with very high scores on the Emotionality scale experience fear of physical dangers, experience anxiety in response to life's stresses, feel a need for emotional support from others, and feel empathy and sentimental attachments with others.\" if PA_rating[1] == 'HIGH' else \" \"\n",
    "Emotionality_descr"
   ]
  },
  {
   "cell_type": "code",
   "execution_count": 52,
   "id": "2bbbe561-c35c-4520-9d96-0e4f21288e19",
   "metadata": {
    "tags": []
   },
   "outputs": [
    {
     "name": "stdout",
     "output_type": "stream",
     "text": [
      "\n",
      "Name: Debbie Elis\n",
      "Birth Date: 2005-02-20 \n",
      "Gender: Female\n",
      "Email: mikharubi@gmail.com\n",
      "\n",
      "====================================================================\n",
      "PERSONALITY ASPECTS     || RATING  || TOTAL SCORE  || DESCRIPTION\n",
      "--------------------------------------------------------------------\n",
      "Honesty-Humilty         ||  MID    ||     56       ||      \n",
      "Emotionality            ||  HIGH   ||     60       ||     Persons with very high scores on the Emotionality scale experience fear of physical dangers, experience anxiety in response to life's stresses, feel a need for emotional support from others, and feel empathy and sentimental attachments with others.\n",
      "Extraversion            ||  MID    ||     43\n",
      "Agreeableness           ||  MID    ||     58\n",
      "Conscientiousness       ||  LOW    ||     35\n",
      "Openness to Experience  ||  MID    ||     51\n",
      "Altruism                ||  MID    ||     14\n",
      "\n",
      "====================================================================\n",
      "\n",
      "FACTORY AND FACET       || RATING  || TOTAL SCORE\n",
      "--------------------------------------------------------------------\n",
      "Sincerity               ||  MID    ||     10\n",
      "Fairness                ||  HIGH   ||     18\n",
      "Greed-Avoidance\t        ||  MID    ||     12\n",
      "Modesty                 ||  HIGH   ||     16\n",
      "Fearfulness             ||  HIGH   ||     16\n",
      "Anxiety\t                ||  HIGH   ||     15\n",
      "Dependence              ||  MID    ||     12\n",
      "Sentimentality\t        ||  HIGH   ||     17\n",
      "Social Self-Esteem      ||  MID    ||     12\n",
      "Social Boldness         ||  MID    ||     10\n",
      "Sociability             ||  MID    ||     10\n",
      "Liveliness              ||  MID    ||     11\n",
      "Forgiveness             ||  MID    ||     14\n",
      "Gentleness              ||  HIGH   ||     16\n",
      "Flexibility             ||  MID    ||     14\n",
      "Patience                ||  MID    ||     14\n",
      "Organization            ||  LOW    ||     8\n",
      "Diligence               ||  MID    ||     10\n",
      "Perfectionism           ||  MID    ||     10\n",
      "Prudence                ||  LOW    ||     7\n",
      "Aesthetic Appreciation  ||  MID    ||     13\n",
      "Inquisitiveness         ||  MID    ||     11\n",
      "Creativity              ||  MID    ||     14\n",
      "Unconventionality       ||  MID    ||     13\n",
      "Altruism                ||  MID    ||     14\n",
      "\n",
      "\n",
      "====================================================================\n",
      "\n",
      "PERSONALITY TEST       || RATING   || TOTAL SCORE\n",
      "--------------------------------------------------------------------\n",
      "\n",
      "HEXACO                 ||  MID     || 317\n",
      "\n",
      "\n"
     ]
    }
   ],
   "source": [
    "Name = df3[\"First Name\"][row_index] +\" \"+ df3[\"Last Name\"][row_index]\n",
    "Birth_Date = str(df3[\"Birth Date\"][row_index])\n",
    "Gender = df3[\"Sex\"][row_index]\n",
    "Email = df3[\"Email Address\"][row_index]\n",
    "\n",
    "\n",
    "result = f\"\"\"\n",
    "Name: {Name}\n",
    "Birth Date: {Birth_Date[:11]}\n",
    "Gender: {Gender}\n",
    "Email: {Email}\n",
    "\n",
    "====================================================================\n",
    "PERSONALITY ASPECTS     || RATING  || TOTAL SCORE  || DESCRIPTION\n",
    "--------------------------------------------------------------------\n",
    "Honesty-Humilty         ||  {PA_rating[0]}   ||     {GT_PA[0]}       ||     {Honesty_Humility_descr}\n",
    "Emotionality            ||  {PA_rating[1]}   ||     {GT_PA[1]}       ||     {Emotionality_descr}\n",
    "Extraversion            ||  {PA_rating[2]}   ||     {GT_PA[2]}\n",
    "Agreeableness           ||  {PA_rating[3]}   ||     {GT_PA[3]}\n",
    "Conscientiousness       ||  {PA_rating[4]}   ||     {GT_PA[4]}\n",
    "Openness to Experience  ||  {PA_rating[5]}   ||     {GT_PA[5]}\n",
    "Altruism                ||  {PA_rating[6]}   ||     {GT_PA[6]}\n",
    "\n",
    "====================================================================\n",
    "\n",
    "FACTORY AND FACET       || RATING  || TOTAL SCORE\n",
    "--------------------------------------------------------------------\n",
    "Sincerity               ||  {FnF_rating[0]}   ||     {GT_FnF[0]}\n",
    "Fairness                ||  {FnF_rating[1]}   ||     {GT_FnF[1]}\n",
    "Greed-Avoidance\t        ||  {FnF_rating[2]}   ||     {GT_FnF[2]}\n",
    "Modesty                 ||  {FnF_rating[3]}   ||     {GT_FnF[3]}\n",
    "Fearfulness             ||  {FnF_rating[4]}   ||     {GT_FnF[4]}\n",
    "Anxiety\t                ||  {FnF_rating[5]}   ||     {GT_FnF[5]}\n",
    "Dependence              ||  {FnF_rating[6]}   ||     {GT_FnF[6]}\n",
    "Sentimentality\t        ||  {FnF_rating[7]}   ||     {GT_FnF[7]}\n",
    "Social Self-Esteem      ||  {FnF_rating[8]}   ||     {GT_FnF[8]}\n",
    "Social Boldness         ||  {FnF_rating[9]}   ||     {GT_FnF[9]}\n",
    "Sociability             ||  {FnF_rating[10]}   ||     {GT_FnF[10]}\n",
    "Liveliness              ||  {FnF_rating[11]}   ||     {GT_FnF[11]}\n",
    "Forgiveness             ||  {FnF_rating[12]}   ||     {GT_FnF[12]}\n",
    "Gentleness              ||  {FnF_rating[13]}   ||     {GT_FnF[13]}\n",
    "Flexibility             ||  {FnF_rating[14]}   ||     {GT_FnF[14]}\n",
    "Patience                ||  {FnF_rating[15]}   ||     {GT_FnF[15]}\n",
    "Organization            ||  {FnF_rating[16]}   ||     {GT_FnF[16]}\n",
    "Diligence               ||  {FnF_rating[17]}   ||     {GT_FnF[17]}\n",
    "Perfectionism           ||  {FnF_rating[18]}   ||     {GT_FnF[18]}\n",
    "Prudence                ||  {FnF_rating[19]}   ||     {GT_FnF[19]}\n",
    "Aesthetic Appreciation  ||  {FnF_rating[20]}   ||     {GT_FnF[20]}\n",
    "Inquisitiveness         ||  {FnF_rating[21]}   ||     {GT_FnF[21]}\n",
    "Creativity              ||  {FnF_rating[22]}   ||     {GT_FnF[22]}\n",
    "Unconventionality       ||  {FnF_rating[23]}   ||     {GT_FnF[23]}\n",
    "Altruism                ||  {FnF_rating[24]}   ||     {GT_FnF[24]}\n",
    "\n",
    "\n",
    "====================================================================\n",
    "\n",
    "PERSONALITY TEST       || RATING   || TOTAL SCORE\n",
    "--------------------------------------------------------------------\n",
    "\n",
    "HEXACO                 ||  {HEX_rating}    || {PA_sum}\n",
    "\n",
    "\"\"\"\n",
    "\n",
    "\n",
    "print(result)"
   ]
  },
  {
   "cell_type": "code",
   "execution_count": null,
   "id": "0e4d8b27-e494-44cc-9a6b-aa5ca4732966",
   "metadata": {},
   "outputs": [],
   "source": []
  },
  {
   "cell_type": "markdown",
   "id": "572a5b89-2859-46f0-9ff9-1f73681c824b",
   "metadata": {},
   "source": [
    "THIS IS FOR CHECKING ==============================="
   ]
  },
  {
   "cell_type": "markdown",
   "id": "bd02461e-d5d0-4d93-a4ef-428e3f7859a2",
   "metadata": {},
   "source": [
    "GETTING THE FAVORABLE and UNFAVORABLE SCORES THEN C&P ON EXCEL"
   ]
  },
  {
   "cell_type": "code",
   "execution_count": 22,
   "id": "32e77a38-18d3-42ab-ac83-52c0f605aeb2",
   "metadata": {
    "tags": []
   },
   "outputs": [],
   "source": [
    "favorable_scores = [questionnaire_score_not_scaled[key] for key in favorable if key in questionnaire_score_not_scaled]\n",
    "unfavorable_scores = [questionnaire_score_not_scaled[key] for key in unfavorable if key in questionnaire_score_not_scaled]"
   ]
  },
  {
   "cell_type": "code",
   "execution_count": 23,
   "id": "0becd4cb-1bf2-47d2-b773-4540b4bea290",
   "metadata": {},
   "outputs": [],
   "source": [
    "output_file = 'output_file.csv'\n",
    "\n",
    "with open(output_file, 'w', newline='') as csvfile:\n",
    "    writer = csv.writer(csvfile)\n",
    "    writer.writerow(['Favorable', 'Rating', 'Unfavorable', 'Rating'])  # Write header if needed\n",
    "    for i, j in zip(favorable, unfavorable):\n",
    "        writer.writerow([i, questionnaire_score_not_scaled[i], j, questionnaire_score_not_scaled[j]])\n",
    "csvfile.close()"
   ]
  },
  {
   "cell_type": "code",
   "execution_count": null,
   "id": "ffc5ec4a-8aaf-4e5e-8ccb-e0ab44205275",
   "metadata": {},
   "outputs": [],
   "source": []
  },
  {
   "cell_type": "code",
   "execution_count": 24,
   "id": "d35f9a2c-dd4e-4ccd-94ca-c9fd3127f44d",
   "metadata": {
    "tags": []
   },
   "outputs": [
    {
     "data": {
      "text/plain": [
       "0    4\n",
       "1    3\n",
       "2    3\n",
       "Name: I find it hard to compromise with people when I   really think I’m right., dtype: int64"
      ]
     },
     "execution_count": 24,
     "metadata": {},
     "output_type": "execute_result"
    }
   ],
   "source": [
    "# Access the column for RATING, QUESTION\n",
    "dfchecking = df3.iloc[0:, 9::]\n",
    "dfchecking.iloc[0:, 87] # Only change Value here"
   ]
  },
  {
   "cell_type": "code",
   "execution_count": 25,
   "id": "fd417141-b69b-42f8-93a0-f09d526e2693",
   "metadata": {},
   "outputs": [
    {
     "data": {
      "text/plain": [
       "[4, 5, 4, 5]"
      ]
     },
     "execution_count": 25,
     "metadata": {},
     "output_type": "execute_result"
    }
   ],
   "source": [
    "# Honesty-Humilty\n",
    "Sincerity = [questionnaire_score[key] for key in [6,30,54,78] if key in questionnaire_score]\n",
    "Fairness = [questionnaire_score[key] for key in [12,36,60,84] if key in questionnaire_score]\n",
    "Fairness"
   ]
  },
  {
   "cell_type": "code",
   "execution_count": null,
   "id": "5375df5a-bdb8-41c0-b6fe-7cd827a70db2",
   "metadata": {},
   "outputs": [],
   "source": []
  }
 ],
 "metadata": {
  "kernelspec": {
   "display_name": "Python 3 (ipykernel)",
   "language": "python",
   "name": "python3"
  },
  "language_info": {
   "codemirror_mode": {
    "name": "ipython",
    "version": 3
   },
   "file_extension": ".py",
   "mimetype": "text/x-python",
   "name": "python",
   "nbconvert_exporter": "python",
   "pygments_lexer": "ipython3",
   "version": "3.9.7"
  }
 },
 "nbformat": 4,
 "nbformat_minor": 5
}
